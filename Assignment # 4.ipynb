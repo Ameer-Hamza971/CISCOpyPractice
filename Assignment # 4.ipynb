{
 "cells": [
  {
   "cell_type": "code",
   "execution_count": 17,
   "metadata": {},
   "outputs": [
    {
     "name": "stdout",
     "output_type": "stream",
     "text": [
      "Muhammad Umar\n",
      "Ahmed\n",
      "54\n",
      "karachi\n",
      "intermediate level\n",
      "Masters\n"
     ]
    }
   ],
   "source": [
    "#Qno1\n",
    "#Solution\n",
    "#---------------O--U--R D--I--C--T--I--O--N--A--R--Y----------\n",
    "user_info = {\n",
    "    'first_name': \"Muhammad Umar\",\n",
    "    \"last_name\": \"Ahmed\",\n",
    "    \"age\": 54,\n",
    "    \"city\": \"karachi\"\n",
    "}\n",
    "#----------Printing values from dictionary------\n",
    "print(user_info['first_name']);\n",
    "print(user_info['last_name']);\n",
    "print(user_info['age']);\n",
    "print(user_info['city']);\n",
    "#---------Adding item to dictionary---------\n",
    "user_info['qualification'] = \"intermediate level\";\n",
    "print(user_info['qualification']);\n",
    "#--------Updating value of key \"Qualification\"----------\n",
    "user_info['qualification'] = \"Masters\";\n",
    "print(user_info['qualification']);\n",
    "#--------Deleting value-----------\n",
    "del user_info['qualification'];\n"
   ]
  },
  {
   "cell_type": "code",
   "execution_count": 15,
   "metadata": {},
   "outputs": [
    {
     "name": "stdout",
     "output_type": "stream",
     "text": [
      "One of my favorite book is Alice in wonderland\n"
     ]
    }
   ],
   "source": [
    "#Qno4\n",
    "#Solution \n",
    "#----------Function with Parameter------\n",
    "def favorite_book(title):\n",
    "    print(\"One of my favorite book is \" + title + \" in wonderland\");\n",
    "favorite_book(\"Alice\");"
   ]
  },
  {
   "cell_type": "code",
   "execution_count": 14,
   "metadata": {},
   "outputs": [
    {
     "name": "stdout",
     "output_type": "stream",
     "text": [
      "Enter any Number From 1 to 30: 7\n",
      "Your Given Number is Lesser Than Required\n",
      "Enter any Number From 1 to 30: 10\n",
      "Your Given Number is Greater Than Required\n",
      "Enter any Number From 1 to 30: 9\n",
      "Congratulation You Got It Right\n"
     ]
    }
   ],
   "source": [
    "#Qno5\n",
    "#Solution\n",
    "from random import random\n",
    "#-------------Guessing Game-------------\n",
    "#-------------Generate Random Nums------\n",
    "def randoms():    \n",
    "    rand = random() * 30 + 1;\n",
    "    return round(rand);\n",
    "our_rand_num = randoms();\n",
    "#-------------Looping for user inputs------\n",
    "for x in range(3):\n",
    "    inp = int(input(\"Enter any Number From 1 to 30: \"));\n",
    "    if inp == our_rand_num:\n",
    "        print(\"Congratulation You Got It Right\");\n",
    "        break;\n",
    "    elif inp > our_rand_num:\n",
    "        print(\"Your Given Number is Greater Than Required\");\n",
    "    elif inp < our_rand_num:\n",
    "        print(\"Your Given Number is Lesser Than Required\");\n",
    "   "
   ]
  },
  {
   "cell_type": "code",
   "execution_count": 16,
   "metadata": {},
   "outputs": [
    {
     "name": "stdout",
     "output_type": "stream",
     "text": [
      "karachi\n",
      "dict_values(['Pakistan', '14.91 million', 'ujujujujuju'])\n",
      "dict_values(['America', '8.623 million', 'msmsmsmsms'])\n",
      "dict_values(['France', '2.141 million', 'asjdfkljasdkljfl'])\n",
      "new_york\n",
      "dict_values(['Pakistan', '14.91 million', 'ujujujujuju'])\n",
      "dict_values(['America', '8.623 million', 'msmsmsmsms'])\n",
      "dict_values(['France', '2.141 million', 'asjdfkljasdkljfl'])\n",
      "paris\n",
      "dict_values(['Pakistan', '14.91 million', 'ujujujujuju'])\n",
      "dict_values(['America', '8.623 million', 'msmsmsmsms'])\n",
      "dict_values(['France', '2.141 million', 'asjdfkljasdkljfl'])\n"
     ]
    }
   ],
   "source": [
    "#Qno2\n",
    "#Solution\n",
    "#---------------dict containing dicts---------\n",
    "cities = {\n",
    "    'karachi': {\n",
    "        'country': 'Pakistan',\n",
    "        'population': '14.91 million',\n",
    "        'fact': \"ujujujujuju\"\n",
    "    },\n",
    "    'new_york': {\n",
    "        'country': 'America',\n",
    "        'population': '8.623 million',\n",
    "        'fact': \"msmsmsmsms\"\n",
    "    },\n",
    "    'paris': {\n",
    "        'country': 'France',\n",
    "        'population': '2.141 million',\n",
    "        'fact': \"asjdfkljasdkljfl\"\n",
    "    }\n",
    "}\n",
    "#--------Printing the values of all dictionaries------\n",
    "\n",
    "for outer in cities.keys():\n",
    "    print(outer);\n",
    "    for inner in cities.values():\n",
    "        print(inner.values());\n",
    "\n"
   ]
  },
  {
   "cell_type": "code",
   "execution_count": 34,
   "metadata": {},
   "outputs": [
    {
     "name": "stdout",
     "output_type": "stream",
     "text": [
      "Enter Your Age: 15\n",
      "Your Ticket: $10\n"
     ]
    }
   ],
   "source": [
    "#Qno3\n",
    "#Solution\n",
    "#----------Getting User's input---------\n",
    "age = int(input(\"Enter Your Age: \"));\n",
    "if age < 3:\n",
    "    ticket = \"Free\";\n",
    "elif age >= 3 or age <= 12:\n",
    "    ticket = \"$10\";\n",
    "elif age > 12:\n",
    "    ticket = \"$15\";\n",
    "print(\"Your Ticket: \" + ticket);"
   ]
  },
  {
   "cell_type": "code",
   "execution_count": null,
   "metadata": {},
   "outputs": [],
   "source": []
  }
 ],
 "metadata": {
  "kernelspec": {
   "display_name": "Python 3",
   "language": "python",
   "name": "python3"
  },
  "language_info": {
   "codemirror_mode": {
    "name": "ipython",
    "version": 3
   },
   "file_extension": ".py",
   "mimetype": "text/x-python",
   "name": "python",
   "nbconvert_exporter": "python",
   "pygments_lexer": "ipython3",
   "version": "3.7.3"
  }
 },
 "nbformat": 4,
 "nbformat_minor": 2
}
