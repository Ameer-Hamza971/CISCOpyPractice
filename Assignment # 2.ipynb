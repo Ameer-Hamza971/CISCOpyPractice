{
 "cells": [
  {
   "cell_type": "code",
   "execution_count": 5,
   "metadata": {},
   "outputs": [
    {
     "name": "stdout",
     "output_type": "stream",
     "text": [
      "Enter Math's Marks: 56\n",
      "Enter Physics Marks: 78\n",
      "Enter Urdu Marks: 98\n",
      "Enter islamiat's Marks: 12\n",
      "Enter English Marks: 54\n",
      "Your percentage is 59.599999999999994 and grade is C\n"
     ]
    }
   ],
   "source": [
    "#Qno1: \n",
    "#Solution:\n",
    "#----------------------Our Inputs----------------\n",
    "math = int(input(\"Enter Math's Marks: \"));\n",
    "phy = int(input(\"Enter Physics Marks: \"));\n",
    "urdu = int(input(\"Enter Urdu Marks: \"));\n",
    "isl = int(input(\"Enter islamiat's Marks: \"));\n",
    "english = int(input(\"Enter English Marks: \"));\n",
    "#----------------------Calculations: Obtain marks, total marks and percentages----------------\n",
    "obt_marks = math + phy + urdu + isl + english;\n",
    "total_marks = 500;\n",
    "percentage = (obt_marks / total_marks) * 100;\n",
    "#----------------------Finding Grades for appropirate percentage----------------\n",
    "if percentage >= 80:\n",
    "    print(\"Your percentage is \" + str(percentage) + \" and grade is \" + \"A+\");\n",
    "elif percentage >= 70:\n",
    "    print(\"Your percentage is \" + str(percentage) + \" and grade is \" + \"A\");\n",
    "elif percentage >= 60:\n",
    "    print(\"Your percentage is \" + str(percentage) + \" and grade is \" + \"B\");\n",
    "elif percentage >= 50:\n",
    "    print(\"Your percentage is \" + str(percentage) + \" and grade is \" + \"C\");\n",
    "elif percentage >= 49:\n",
    "    print(\"Your percentage is \" + str(percentage) + \" and grade is \" + \"D\");\n",
    "else:\n",
    "    print(\"Your percentage is \" + str(percentage) + \" and you were FAILED\");"
   ]
  },
  {
   "cell_type": "code",
   "execution_count": 2,
   "metadata": {},
   "outputs": [
    {
     "name": "stdout",
     "output_type": "stream",
     "text": [
      "Enter any number: 33\n",
      "The number is ODD\n"
     ]
    }
   ],
   "source": [
    "#Qno2:\n",
    "#Solution:\n",
    "number = int(input(\"Enter any number: \"));\n",
    "if number % 2 == 1:\n",
    "    print(\"The number is ODD\");\n",
    "elif number % 2 == 0:\n",
    "    print(\"The number is EVEN\");"
   ]
  },
  {
   "cell_type": "code",
   "execution_count": 3,
   "metadata": {},
   "outputs": [
    {
     "name": "stdout",
     "output_type": "stream",
     "text": [
      "9\n"
     ]
    }
   ],
   "source": [
    "#Qno3:\n",
    "#Solution:\n",
    "this_list = [2, 34, 34, 5, 45, 5, 45, 4, 44];\n",
    "print(len(this_list));"
   ]
  },
  {
   "cell_type": "code",
   "execution_count": 9,
   "metadata": {},
   "outputs": [
    {
     "name": "stdout",
     "output_type": "stream",
     "text": [
      "45\n"
     ]
    }
   ],
   "source": [
    "#Qno4\n",
    "#Solution\n",
    "add = 0;\n",
    "our_list = [1, 2, 3, 4, 5, 6, 7, 8, 9];\n",
    "for x in our_list:\n",
    "    add = add + x;\n",
    "print(add);"
   ]
  },
  {
   "cell_type": "code",
   "execution_count": 13,
   "metadata": {},
   "outputs": [
    {
     "name": "stdout",
     "output_type": "stream",
     "text": [
      "323\n"
     ]
    }
   ],
   "source": [
    "#Qno5\n",
    "#Solution\n",
    "x = [23, 34, 45, 213, 23, 12, 35, 34, 12, 11, 323, 323];\n",
    "x.sort(reverse=True);\n",
    "print(x[0]);"
   ]
  },
  {
   "cell_type": "code",
   "execution_count": 14,
   "metadata": {},
   "outputs": [
    {
     "name": "stdout",
     "output_type": "stream",
     "text": [
      "1\n",
      "1\n",
      "2\n",
      "3\n"
     ]
    }
   ],
   "source": [
    "#Qno6\n",
    "#Solution\n",
    "our_list = [1, 1, 2, 3, 5, 8, 13, 21, 34, 55, 89]\n",
    "for element in our_list:\n",
    "    if element < 5:\n",
    "        print(element);"
   ]
  },
  {
   "cell_type": "code",
   "execution_count": null,
   "metadata": {},
   "outputs": [],
   "source": []
  }
 ],
 "metadata": {
  "kernelspec": {
   "display_name": "Python 3",
   "language": "python",
   "name": "python3"
  },
  "language_info": {
   "codemirror_mode": {
    "name": "ipython",
    "version": 3
   },
   "file_extension": ".py",
   "mimetype": "text/x-python",
   "name": "python",
   "nbconvert_exporter": "python",
   "pygments_lexer": "ipython3",
   "version": "3.7.3"
  }
 },
 "nbformat": 4,
 "nbformat_minor": 2
}
