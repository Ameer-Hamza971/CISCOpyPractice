{
 "cells": [
  {
   "cell_type": "code",
   "execution_count": 7,
   "metadata": {},
   "outputs": [
    {
     "name": "stdout",
     "output_type": "stream",
     "text": [
      "Enter your firts number:  32\n",
      "Enter your firts number:  22\n",
      "Choose the option a .For sum b. For difference c. For product d. For divivde e. exponent\n",
      "Enter a, b, c, d or e :  b\n",
      "10\n"
     ]
    }
   ],
   "source": [
    "#Qno1\n",
    "#Solution\n",
    "#-------------------------- to get the input from user ----------------\n",
    "x = int(input(\"Enter your firts number:  \"));\n",
    "y = int(input(\"Enter your firts number:  \"));\n",
    "#-------------------------- getting options from the user -------------\n",
    "print(\"Choose the option a .For sum b. For difference c. For product d. For divivde e. exponent\");\n",
    "user_option = input(\"Enter a, b, c, d or e :  \");\n",
    "#-------------------------- checking for suitable opration ------------\n",
    "if user_option == \"a\":\n",
    "    print(x + y);\n",
    "elif user_option == \"b\":\n",
    "    print(x - y);\n",
    "elif user_option == \"c\":\n",
    "    print(x * y);\n",
    "elif user_option == \"d\":\n",
    "    print(x // y);\n",
    "elif user_option == \"e\":\n",
    "    print(pow(x, y));\n",
    "else:\n",
    "    print(\"Enter correct option!!\");"
   ]
  },
  {
   "cell_type": "code",
   "execution_count": 11,
   "metadata": {},
   "outputs": [
    {
     "name": "stdout",
     "output_type": "stream",
     "text": [
      "Yes! there is a number\n"
     ]
    }
   ],
   "source": [
    "#Qno2\n",
    "#Solution\n",
    "our_list = [1, \"23\", 33, \"sdf\", 12, \"asdf\", \"34\"];\n",
    "for x in our_list:\n",
    "    if type(x) == int or type(x) == float:\n",
    "        print(\"Yes! there is a number\");\n",
    "        break;"
   ]
  },
  {
   "cell_type": "code",
   "execution_count": 12,
   "metadata": {},
   "outputs": [
    {
     "name": "stdout",
     "output_type": "stream",
     "text": [
      "{0: 'The firstvalue', 1: 'The second value', 2: 'The third value', 3: 'The fourth value'}\n"
     ]
    }
   ],
   "source": [
    "#Qno3\n",
    "#Solution\n",
    "our_dict = {\n",
    "    0: \"The firstvalue\",\n",
    "    1: \"The second value\",\n",
    "    2: \"The third value\"\n",
    "}\n",
    "our_dict[3] = \"The fourth value\";\n",
    "print(our_dict);"
   ]
  },
  {
   "cell_type": "code",
   "execution_count": 37,
   "metadata": {},
   "outputs": [
    {
     "name": "stdout",
     "output_type": "stream",
     "text": [
      "this is not a number\n",
      "this is not a number\n",
      "1400\n"
     ]
    }
   ],
   "source": [
    "#Qno4\n",
    "#Solution\n",
    "our_dict = {\n",
    "    0: 300,\n",
    "    1: 400,\n",
    "    2: \"The third value\",\n",
    "    3: \"The third value\",\n",
    "    4: 700\n",
    "}\n",
    "sum = 0;\n",
    "for i in our_dict.values():\n",
    "    if type(i) == int:\n",
    "       sum = sum + i;\n",
    "    else:\n",
    "       print(\"this is not a number\");\n",
    "print(sum);"
   ]
  },
  {
   "cell_type": "code",
   "execution_count": 49,
   "metadata": {},
   "outputs": [
    {
     "name": "stdout",
     "output_type": "stream",
     "text": [
      "Yes there are duplicate values 2\n",
      "Yes there are duplicate values 2\n",
      "Yes there are duplicate values hamza\n",
      "Yes there are duplicate values hamza\n"
     ]
    }
   ],
   "source": [
    "#Qno5\n",
    "#solution\n",
    "our_list = [\"1\", \"2\", \"45\", \"2\", \"54\", \"hamza\", \"hamza\"];\n",
    "for elem in our_list:\n",
    "        if our_list.count(elem) > 1:\n",
    "            print(\"Yes there are duplicate values \" + str(elem));"
   ]
  },
  {
   "cell_type": "code",
   "execution_count": 63,
   "metadata": {},
   "outputs": [
    {
     "name": "stdout",
     "output_type": "stream",
     "text": [
      "Enter key: key5\n",
      "key5 not Present in dict\n",
      "key5 not Present in dict\n",
      "key5 not Present in dict\n",
      "key5 not Present in dict\n",
      "key5 Present in dict\n"
     ]
    }
   ],
   "source": [
    "#Qno6\n",
    "#Solution\n",
    "inp = input(\"Enter key: \");\n",
    "our_dict = {\n",
    "    \"key1\": \"value1\",\n",
    "    \"key2\": \"value2\",\n",
    "    \"key3\": \"value3\",\n",
    "    \"key4\": \"value4\",\n",
    "    \"key5\": \"value5\"\n",
    "}\n",
    "for x in our_dict.keys():\n",
    "    if x == inp:\n",
    "        print(str(inp) + \" Present in dict\");\n",
    "        break;\n",
    " #   else:\n",
    "  #      print(str(inp) + \" not Present in dict\");"
   ]
  },
  {
   "cell_type": "code",
   "execution_count": null,
   "metadata": {},
   "outputs": [],
   "source": []
  },
  {
   "cell_type": "code",
   "execution_count": null,
   "metadata": {},
   "outputs": [],
   "source": [
    "jjj"
   ]
  }
 ],
 "metadata": {
  "kernelspec": {
   "display_name": "Python 3",
   "language": "python",
   "name": "python3"
  },
  "language_info": {
   "codemirror_mode": {
    "name": "ipython",
    "version": 3
   },
   "file_extension": ".py",
   "mimetype": "text/x-python",
   "name": "python",
   "nbconvert_exporter": "python",
   "pygments_lexer": "ipython3",
   "version": "3.7.3"
  }
 },
 "nbformat": 4,
 "nbformat_minor": 2
}
